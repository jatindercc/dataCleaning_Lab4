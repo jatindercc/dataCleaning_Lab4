{
 "cells": [
  {
   "cell_type": "code",
   "execution_count": 1,
   "id": "73c5e2b4",
   "metadata": {},
   "outputs": [
    {
     "data": {
      "application/vnd.microsoft.datawrangler.viewer.v0+json": {
       "columns": [
        {
         "name": "index",
         "rawType": "int64",
         "type": "integer"
        },
        {
         "name": "Student_id",
         "rawType": "int64",
         "type": "integer"
        },
        {
         "name": "Age",
         "rawType": "int64",
         "type": "integer"
        },
        {
         "name": "Gender",
         "rawType": "object",
         "type": "string"
        },
        {
         "name": "Grade",
         "rawType": "object",
         "type": "string"
        },
        {
         "name": "Employed",
         "rawType": "object",
         "type": "string"
        }
       ],
       "ref": "815a31a0-9270-4bde-b9f4-98f8e46ad13d",
       "rows": [
        [
         "0",
         "1",
         "19",
         "Male",
         "1st Class",
         "yes"
        ],
        [
         "1",
         "2",
         "20",
         "Female",
         "2nd Class",
         "no"
        ],
        [
         "2",
         "3",
         "18",
         "Male",
         "1st Class",
         "no"
        ],
        [
         "3",
         "4",
         "21",
         "Female",
         "2nd Class",
         "no"
        ],
        [
         "4",
         "5",
         "19",
         "Male",
         "1st Class",
         "no"
        ],
        [
         "5",
         "6",
         "20",
         "Male",
         "2nd Class",
         "yes"
        ],
        [
         "6",
         "7",
         "19",
         "Female",
         "3rd Class",
         "yes"
        ],
        [
         "7",
         "8",
         "21",
         "Male",
         "3rd Class",
         "yes"
        ],
        [
         "8",
         "9",
         "22",
         "Female",
         "3rd Class",
         "yes"
        ],
        [
         "9",
         "10",
         "21",
         "Male",
         "1st Class",
         "no"
        ],
        [
         "10",
         "11",
         "20",
         "Female",
         "3rd Class",
         "yes"
        ],
        [
         "11",
         "12",
         "20",
         "Male",
         "1st Class",
         "no"
        ],
        [
         "12",
         "13",
         "19",
         "Male",
         "1st Class",
         "yes"
        ],
        [
         "13",
         "14",
         "20",
         "Female",
         "3rd Class",
         "no"
        ],
        [
         "14",
         "15",
         "19",
         "Male",
         "1st Class",
         "yes"
        ],
        [
         "15",
         "16",
         "19",
         "Female",
         "2nd Class",
         "no"
        ],
        [
         "16",
         "17",
         "20",
         "Male",
         "2nd Class",
         "yes"
        ],
        [
         "17",
         "18",
         "18",
         "Female",
         "3rd Class",
         "no"
        ],
        [
         "18",
         "19",
         "21",
         "Male",
         "2nd Class",
         "yes"
        ],
        [
         "19",
         "20",
         "19",
         "Male",
         "2nd Class",
         "no"
        ],
        [
         "20",
         "21",
         "20",
         "Female",
         "3rd Class",
         "yes"
        ],
        [
         "21",
         "22",
         "19",
         "Male",
         "2nd Class",
         "no"
        ],
        [
         "22",
         "23",
         "21",
         "Female",
         "2nd Class",
         "yes"
        ],
        [
         "23",
         "24",
         "22",
         "Male",
         "3rd Class",
         "no"
        ],
        [
         "24",
         "25",
         "21",
         "Female",
         "1st Class",
         "no"
        ],
        [
         "25",
         "26",
         "20",
         "Male",
         "2nd Class",
         "no"
        ],
        [
         "26",
         "27",
         "20",
         "Male",
         "3rd Class",
         "no"
        ],
        [
         "27",
         "28",
         "19",
         "Female",
         "1st Class",
         "no"
        ],
        [
         "28",
         "29",
         "20",
         "Male",
         "3rd Class",
         "no"
        ],
        [
         "29",
         "30",
         "19",
         "Male",
         "1st Class",
         "yes"
        ],
        [
         "30",
         "31",
         "20",
         "Female",
         "2nd Class",
         "no"
        ],
        [
         "31",
         "32",
         "18",
         "Male",
         "1st Class",
         "no"
        ],
        [
         "32",
         "33",
         "21",
         "Female",
         "2nd Class",
         "no"
        ],
        [
         "33",
         "34",
         "19",
         "Male",
         "1st Class",
         "no"
        ],
        [
         "34",
         "35",
         "20",
         "Male",
         "2nd Class",
         "yes"
        ],
        [
         "35",
         "36",
         "19",
         "Female",
         "3rd Class",
         "yes"
        ],
        [
         "36",
         "37",
         "21",
         "Male",
         "3rd Class",
         "yes"
        ],
        [
         "37",
         "38",
         "22",
         "Female",
         "3rd Class",
         "yes"
        ],
        [
         "38",
         "39",
         "21",
         "Male",
         "1st Class",
         "no"
        ],
        [
         "39",
         "40",
         "20",
         "Female",
         "3rd Class",
         "yes"
        ],
        [
         "40",
         "41",
         "20",
         "Male",
         "1st Class",
         "no"
        ],
        [
         "41",
         "42",
         "19",
         "Male",
         "1st Class",
         "yes"
        ],
        [
         "42",
         "43",
         "20",
         "Female",
         "3rd Class",
         "no"
        ],
        [
         "43",
         "44",
         "19",
         "Male",
         "1st Class",
         "yes"
        ],
        [
         "44",
         "45",
         "19",
         "Female",
         "2nd Class",
         "no"
        ],
        [
         "45",
         "46",
         "20",
         "Male",
         "2nd Class",
         "yes"
        ],
        [
         "46",
         "47",
         "18",
         "Female",
         "3rd Class",
         "no"
        ],
        [
         "47",
         "48",
         "21",
         "Male",
         "2nd Class",
         "yes"
        ],
        [
         "48",
         "49",
         "19",
         "Male",
         "2nd Class",
         "no"
        ],
        [
         "49",
         "50",
         "20",
         "Female",
         "3rd Class",
         "yes"
        ]
       ],
       "shape": {
        "columns": 5,
        "rows": 232
       }
      },
      "text/html": [
       "<div>\n",
       "<style scoped>\n",
       "    .dataframe tbody tr th:only-of-type {\n",
       "        vertical-align: middle;\n",
       "    }\n",
       "\n",
       "    .dataframe tbody tr th {\n",
       "        vertical-align: top;\n",
       "    }\n",
       "\n",
       "    .dataframe thead th {\n",
       "        text-align: right;\n",
       "    }\n",
       "</style>\n",
       "<table border=\"1\" class=\"dataframe\">\n",
       "  <thead>\n",
       "    <tr style=\"text-align: right;\">\n",
       "      <th></th>\n",
       "      <th>Student_id</th>\n",
       "      <th>Age</th>\n",
       "      <th>Gender</th>\n",
       "      <th>Grade</th>\n",
       "      <th>Employed</th>\n",
       "    </tr>\n",
       "  </thead>\n",
       "  <tbody>\n",
       "    <tr>\n",
       "      <th>0</th>\n",
       "      <td>1</td>\n",
       "      <td>19</td>\n",
       "      <td>Male</td>\n",
       "      <td>1st Class</td>\n",
       "      <td>yes</td>\n",
       "    </tr>\n",
       "    <tr>\n",
       "      <th>1</th>\n",
       "      <td>2</td>\n",
       "      <td>20</td>\n",
       "      <td>Female</td>\n",
       "      <td>2nd Class</td>\n",
       "      <td>no</td>\n",
       "    </tr>\n",
       "    <tr>\n",
       "      <th>2</th>\n",
       "      <td>3</td>\n",
       "      <td>18</td>\n",
       "      <td>Male</td>\n",
       "      <td>1st Class</td>\n",
       "      <td>no</td>\n",
       "    </tr>\n",
       "    <tr>\n",
       "      <th>3</th>\n",
       "      <td>4</td>\n",
       "      <td>21</td>\n",
       "      <td>Female</td>\n",
       "      <td>2nd Class</td>\n",
       "      <td>no</td>\n",
       "    </tr>\n",
       "    <tr>\n",
       "      <th>4</th>\n",
       "      <td>5</td>\n",
       "      <td>19</td>\n",
       "      <td>Male</td>\n",
       "      <td>1st Class</td>\n",
       "      <td>no</td>\n",
       "    </tr>\n",
       "    <tr>\n",
       "      <th>...</th>\n",
       "      <td>...</td>\n",
       "      <td>...</td>\n",
       "      <td>...</td>\n",
       "      <td>...</td>\n",
       "      <td>...</td>\n",
       "    </tr>\n",
       "    <tr>\n",
       "      <th>227</th>\n",
       "      <td>228</td>\n",
       "      <td>21</td>\n",
       "      <td>Female</td>\n",
       "      <td>1st Class</td>\n",
       "      <td>no</td>\n",
       "    </tr>\n",
       "    <tr>\n",
       "      <th>228</th>\n",
       "      <td>229</td>\n",
       "      <td>20</td>\n",
       "      <td>Male</td>\n",
       "      <td>2nd Class</td>\n",
       "      <td>no</td>\n",
       "    </tr>\n",
       "    <tr>\n",
       "      <th>229</th>\n",
       "      <td>230</td>\n",
       "      <td>20</td>\n",
       "      <td>Male</td>\n",
       "      <td>3rd Class</td>\n",
       "      <td>yes</td>\n",
       "    </tr>\n",
       "    <tr>\n",
       "      <th>230</th>\n",
       "      <td>231</td>\n",
       "      <td>19</td>\n",
       "      <td>Female</td>\n",
       "      <td>1st Class</td>\n",
       "      <td>yes</td>\n",
       "    </tr>\n",
       "    <tr>\n",
       "      <th>231</th>\n",
       "      <td>232</td>\n",
       "      <td>20</td>\n",
       "      <td>Male</td>\n",
       "      <td>3rd Class</td>\n",
       "      <td>yes</td>\n",
       "    </tr>\n",
       "  </tbody>\n",
       "</table>\n",
       "<p>232 rows × 5 columns</p>\n",
       "</div>"
      ],
      "text/plain": [
       "     Student_id  Age  Gender      Grade Employed\n",
       "0             1   19    Male  1st Class      yes\n",
       "1             2   20  Female  2nd Class       no\n",
       "2             3   18    Male  1st Class       no\n",
       "3             4   21  Female  2nd Class       no\n",
       "4             5   19    Male  1st Class       no\n",
       "..          ...  ...     ...        ...      ...\n",
       "227         228   21  Female  1st Class       no\n",
       "228         229   20    Male  2nd Class       no\n",
       "229         230   20    Male  3rd Class      yes\n",
       "230         231   19  Female  1st Class      yes\n",
       "231         232   20    Male  3rd Class      yes\n",
       "\n",
       "[232 rows x 5 columns]"
      ]
     },
     "metadata": {},
     "output_type": "display_data"
    },
    {
     "data": {
      "application/vnd.microsoft.datawrangler.viewer.v0+json": {
       "columns": [
        {
         "name": "index",
         "rawType": "int64",
         "type": "integer"
        },
        {
         "name": "Student_id",
         "rawType": "int64",
         "type": "integer"
        },
        {
         "name": "Mark",
         "rawType": "int64",
         "type": "integer"
        },
        {
         "name": "City",
         "rawType": "object",
         "type": "string"
        }
       ],
       "ref": "fecd5b10-dba5-418d-94bf-f631c1610c2c",
       "rows": [
        [
         "0",
         "1",
         "95",
         "Chennai"
        ],
        [
         "1",
         "2",
         "70",
         "Delhi"
        ],
        [
         "2",
         "3",
         "98",
         "Mumbai"
        ],
        [
         "3",
         "4",
         "75",
         "Pune"
        ],
        [
         "4",
         "5",
         "89",
         "Kochi"
        ],
        [
         "5",
         "6",
         "69",
         "Gwalior"
        ],
        [
         "6",
         "7",
         "52",
         "Bhopal"
        ],
        [
         "7",
         "8",
         "54",
         "Chennai"
        ],
        [
         "8",
         "9",
         "55",
         "Delhi"
        ],
        [
         "9",
         "10",
         "94",
         "Mumbai"
        ],
        [
         "10",
         "11",
         "52",
         "Pune"
        ],
        [
         "11",
         "12",
         "90",
         "Kochi"
        ],
        [
         "12",
         "13",
         "92",
         "Gwalior"
        ],
        [
         "13",
         "14",
         "55",
         "Bhopal"
        ],
        [
         "14",
         "15",
         "97",
         "Pune"
        ],
        [
         "15",
         "16",
         "77",
         "Kochi"
        ],
        [
         "16",
         "17",
         "68",
         "Gwalior"
        ],
        [
         "17",
         "18",
         "51",
         "Bhopal"
        ],
        [
         "18",
         "19",
         "72",
         "Chennai"
        ],
        [
         "19",
         "20",
         "79",
         "Delhi"
        ],
        [
         "20",
         "21",
         "49",
         "Mumbai"
        ],
        [
         "21",
         "22",
         "78",
         "Pune"
        ],
        [
         "22",
         "23",
         "76",
         "Chennai"
        ],
        [
         "23",
         "24",
         "43",
         "Delhi"
        ],
        [
         "24",
         "25",
         "89",
         "Mumbai"
        ],
        [
         "25",
         "26",
         "75",
         "Pune"
        ],
        [
         "26",
         "27",
         "45",
         "Kochi"
        ],
        [
         "27",
         "28",
         "98",
         "Gwalior"
        ],
        [
         "28",
         "29",
         "54",
         "Bhopal"
        ],
        [
         "29",
         "30",
         "81",
         "Chennai"
        ],
        [
         "30",
         "31",
         "74",
         "Delhi"
        ],
        [
         "31",
         "32",
         "82",
         "Mumbai"
        ],
        [
         "32",
         "33",
         "78",
         "Pune"
        ],
        [
         "33",
         "34",
         "83",
         "Kochi"
        ],
        [
         "34",
         "35",
         "79",
         "Gwalior"
        ],
        [
         "35",
         "36",
         "55",
         "Bhopal"
        ],
        [
         "36",
         "37",
         "53",
         "Pune"
        ],
        [
         "37",
         "38",
         "55",
         "Kochi"
        ],
        [
         "38",
         "39",
         "84",
         "Gwalior"
        ],
        [
         "39",
         "40",
         "44",
         "Bhopal"
        ],
        [
         "40",
         "41",
         "85",
         "Chennai"
        ],
        [
         "41",
         "42",
         "86",
         "Delhi"
        ],
        [
         "42",
         "43",
         "45",
         "Mumbai"
        ],
        [
         "43",
         "44",
         "95",
         "Pune"
        ],
        [
         "44",
         "45",
         "73",
         "Chennai"
        ],
        [
         "45",
         "46",
         "79",
         "Delhi"
        ],
        [
         "46",
         "47",
         "46",
         "Mumbai"
        ],
        [
         "47",
         "48",
         "67",
         "Pune"
        ],
        [
         "48",
         "49",
         "68",
         "Kochi"
        ],
        [
         "49",
         "50",
         "47",
         "Gwalior"
        ]
       ],
       "shape": {
        "columns": 3,
        "rows": 232
       }
      },
      "text/html": [
       "<div>\n",
       "<style scoped>\n",
       "    .dataframe tbody tr th:only-of-type {\n",
       "        vertical-align: middle;\n",
       "    }\n",
       "\n",
       "    .dataframe tbody tr th {\n",
       "        vertical-align: top;\n",
       "    }\n",
       "\n",
       "    .dataframe thead th {\n",
       "        text-align: right;\n",
       "    }\n",
       "</style>\n",
       "<table border=\"1\" class=\"dataframe\">\n",
       "  <thead>\n",
       "    <tr style=\"text-align: right;\">\n",
       "      <th></th>\n",
       "      <th>Student_id</th>\n",
       "      <th>Mark</th>\n",
       "      <th>City</th>\n",
       "    </tr>\n",
       "  </thead>\n",
       "  <tbody>\n",
       "    <tr>\n",
       "      <th>0</th>\n",
       "      <td>1</td>\n",
       "      <td>95</td>\n",
       "      <td>Chennai</td>\n",
       "    </tr>\n",
       "    <tr>\n",
       "      <th>1</th>\n",
       "      <td>2</td>\n",
       "      <td>70</td>\n",
       "      <td>Delhi</td>\n",
       "    </tr>\n",
       "    <tr>\n",
       "      <th>2</th>\n",
       "      <td>3</td>\n",
       "      <td>98</td>\n",
       "      <td>Mumbai</td>\n",
       "    </tr>\n",
       "    <tr>\n",
       "      <th>3</th>\n",
       "      <td>4</td>\n",
       "      <td>75</td>\n",
       "      <td>Pune</td>\n",
       "    </tr>\n",
       "    <tr>\n",
       "      <th>4</th>\n",
       "      <td>5</td>\n",
       "      <td>89</td>\n",
       "      <td>Kochi</td>\n",
       "    </tr>\n",
       "    <tr>\n",
       "      <th>...</th>\n",
       "      <td>...</td>\n",
       "      <td>...</td>\n",
       "      <td>...</td>\n",
       "    </tr>\n",
       "    <tr>\n",
       "      <th>227</th>\n",
       "      <td>228</td>\n",
       "      <td>99</td>\n",
       "      <td>Pune</td>\n",
       "    </tr>\n",
       "    <tr>\n",
       "      <th>228</th>\n",
       "      <td>229</td>\n",
       "      <td>70</td>\n",
       "      <td>Chennai</td>\n",
       "    </tr>\n",
       "    <tr>\n",
       "      <th>229</th>\n",
       "      <td>230</td>\n",
       "      <td>55</td>\n",
       "      <td>Delhi</td>\n",
       "    </tr>\n",
       "    <tr>\n",
       "      <th>230</th>\n",
       "      <td>231</td>\n",
       "      <td>97</td>\n",
       "      <td>Mumbai</td>\n",
       "    </tr>\n",
       "    <tr>\n",
       "      <th>231</th>\n",
       "      <td>232</td>\n",
       "      <td>59</td>\n",
       "      <td>Pune</td>\n",
       "    </tr>\n",
       "  </tbody>\n",
       "</table>\n",
       "<p>232 rows × 3 columns</p>\n",
       "</div>"
      ],
      "text/plain": [
       "     Student_id  Mark     City\n",
       "0             1    95  Chennai\n",
       "1             2    70    Delhi\n",
       "2             3    98   Mumbai\n",
       "3             4    75     Pune\n",
       "4             5    89    Kochi\n",
       "..          ...   ...      ...\n",
       "227         228    99     Pune\n",
       "228         229    70  Chennai\n",
       "229         230    55    Delhi\n",
       "230         231    97   Mumbai\n",
       "231         232    59     Pune\n",
       "\n",
       "[232 rows x 3 columns]"
      ]
     },
     "metadata": {},
     "output_type": "display_data"
    }
   ],
   "source": [
    "import pandas as pd\n",
    "import numpy as np\n",
    "import os\n",
    "\n",
    "\n",
    "os.chdir('C:/wamp64/www/PROG8245-MachineLearingPrograming/Week_6_DataTransformation/data')\n",
    "# --- IGNORE ---\n",
    "# Load Student data from CSV file\n",
    "student_df = pd.read_csv('student.csv')\n",
    "\n",
    "# Load Mark data from CSV file\n",
    "mark_df = pd.read_csv('mark.csv')\n",
    "\n",
    "# Display the DataFrames\n",
    "# display(student_df) \n",
    "# display(mark_df)\n",
    "# --- IGNORE ---\n",
    "display(student_df , mark_df)"
   ]
  },
  {
   "cell_type": "code",
   "execution_count": 2,
   "id": "302ee20d",
   "metadata": {},
   "outputs": [
    {
     "data": {
      "application/vnd.microsoft.datawrangler.viewer.v0+json": {
       "columns": [
        {
         "name": "index",
         "rawType": "int64",
         "type": "integer"
        },
        {
         "name": "Student_id",
         "rawType": "int64",
         "type": "integer"
        },
        {
         "name": "Age",
         "rawType": "int64",
         "type": "integer"
        },
        {
         "name": "Gender",
         "rawType": "object",
         "type": "string"
        },
        {
         "name": "Grade",
         "rawType": "object",
         "type": "string"
        },
        {
         "name": "Employed",
         "rawType": "object",
         "type": "string"
        },
        {
         "name": "Mark",
         "rawType": "int64",
         "type": "integer"
        },
        {
         "name": "City",
         "rawType": "object",
         "type": "string"
        }
       ],
       "ref": "826da5b6-3a60-44e9-a182-79d48864e3c9",
       "rows": [
        [
         "0",
         "1",
         "19",
         "Male",
         "1st Class",
         "yes",
         "95",
         "Chennai"
        ],
        [
         "1",
         "2",
         "20",
         "Female",
         "2nd Class",
         "no",
         "70",
         "Delhi"
        ],
        [
         "2",
         "3",
         "18",
         "Male",
         "1st Class",
         "no",
         "98",
         "Mumbai"
        ],
        [
         "3",
         "4",
         "21",
         "Female",
         "2nd Class",
         "no",
         "75",
         "Pune"
        ],
        [
         "4",
         "5",
         "19",
         "Male",
         "1st Class",
         "no",
         "89",
         "Kochi"
        ],
        [
         "5",
         "6",
         "20",
         "Male",
         "2nd Class",
         "yes",
         "69",
         "Gwalior"
        ],
        [
         "6",
         "7",
         "19",
         "Female",
         "3rd Class",
         "yes",
         "52",
         "Bhopal"
        ],
        [
         "7",
         "8",
         "21",
         "Male",
         "3rd Class",
         "yes",
         "54",
         "Chennai"
        ],
        [
         "8",
         "9",
         "22",
         "Female",
         "3rd Class",
         "yes",
         "55",
         "Delhi"
        ],
        [
         "9",
         "10",
         "21",
         "Male",
         "1st Class",
         "no",
         "94",
         "Mumbai"
        ],
        [
         "10",
         "11",
         "20",
         "Female",
         "3rd Class",
         "yes",
         "52",
         "Pune"
        ],
        [
         "11",
         "12",
         "20",
         "Male",
         "1st Class",
         "no",
         "90",
         "Kochi"
        ],
        [
         "12",
         "13",
         "19",
         "Male",
         "1st Class",
         "yes",
         "92",
         "Gwalior"
        ],
        [
         "13",
         "14",
         "20",
         "Female",
         "3rd Class",
         "no",
         "55",
         "Bhopal"
        ],
        [
         "14",
         "15",
         "19",
         "Male",
         "1st Class",
         "yes",
         "97",
         "Pune"
        ],
        [
         "15",
         "16",
         "19",
         "Female",
         "2nd Class",
         "no",
         "77",
         "Kochi"
        ],
        [
         "16",
         "17",
         "20",
         "Male",
         "2nd Class",
         "yes",
         "68",
         "Gwalior"
        ],
        [
         "17",
         "18",
         "18",
         "Female",
         "3rd Class",
         "no",
         "51",
         "Bhopal"
        ],
        [
         "18",
         "19",
         "21",
         "Male",
         "2nd Class",
         "yes",
         "72",
         "Chennai"
        ],
        [
         "19",
         "20",
         "19",
         "Male",
         "2nd Class",
         "no",
         "79",
         "Delhi"
        ],
        [
         "20",
         "21",
         "20",
         "Female",
         "3rd Class",
         "yes",
         "49",
         "Mumbai"
        ],
        [
         "21",
         "22",
         "19",
         "Male",
         "2nd Class",
         "no",
         "78",
         "Pune"
        ],
        [
         "22",
         "23",
         "21",
         "Female",
         "2nd Class",
         "yes",
         "76",
         "Chennai"
        ],
        [
         "23",
         "24",
         "22",
         "Male",
         "3rd Class",
         "no",
         "43",
         "Delhi"
        ],
        [
         "24",
         "25",
         "21",
         "Female",
         "1st Class",
         "no",
         "89",
         "Mumbai"
        ],
        [
         "25",
         "26",
         "20",
         "Male",
         "2nd Class",
         "no",
         "75",
         "Pune"
        ],
        [
         "26",
         "27",
         "20",
         "Male",
         "3rd Class",
         "no",
         "45",
         "Kochi"
        ],
        [
         "27",
         "28",
         "19",
         "Female",
         "1st Class",
         "no",
         "98",
         "Gwalior"
        ],
        [
         "28",
         "29",
         "20",
         "Male",
         "3rd Class",
         "no",
         "54",
         "Bhopal"
        ],
        [
         "29",
         "30",
         "19",
         "Male",
         "1st Class",
         "yes",
         "81",
         "Chennai"
        ],
        [
         "30",
         "31",
         "20",
         "Female",
         "2nd Class",
         "no",
         "74",
         "Delhi"
        ],
        [
         "31",
         "32",
         "18",
         "Male",
         "1st Class",
         "no",
         "82",
         "Mumbai"
        ],
        [
         "32",
         "33",
         "21",
         "Female",
         "2nd Class",
         "no",
         "78",
         "Pune"
        ],
        [
         "33",
         "34",
         "19",
         "Male",
         "1st Class",
         "no",
         "83",
         "Kochi"
        ],
        [
         "34",
         "35",
         "20",
         "Male",
         "2nd Class",
         "yes",
         "79",
         "Gwalior"
        ],
        [
         "35",
         "36",
         "19",
         "Female",
         "3rd Class",
         "yes",
         "55",
         "Bhopal"
        ],
        [
         "36",
         "37",
         "21",
         "Male",
         "3rd Class",
         "yes",
         "53",
         "Pune"
        ],
        [
         "37",
         "38",
         "22",
         "Female",
         "3rd Class",
         "yes",
         "55",
         "Kochi"
        ],
        [
         "38",
         "39",
         "21",
         "Male",
         "1st Class",
         "no",
         "84",
         "Gwalior"
        ],
        [
         "39",
         "40",
         "20",
         "Female",
         "3rd Class",
         "yes",
         "44",
         "Bhopal"
        ],
        [
         "40",
         "41",
         "20",
         "Male",
         "1st Class",
         "no",
         "85",
         "Chennai"
        ],
        [
         "41",
         "42",
         "19",
         "Male",
         "1st Class",
         "yes",
         "86",
         "Delhi"
        ],
        [
         "42",
         "43",
         "20",
         "Female",
         "3rd Class",
         "no",
         "45",
         "Mumbai"
        ],
        [
         "43",
         "44",
         "19",
         "Male",
         "1st Class",
         "yes",
         "95",
         "Pune"
        ],
        [
         "44",
         "45",
         "19",
         "Female",
         "2nd Class",
         "no",
         "73",
         "Chennai"
        ],
        [
         "45",
         "46",
         "20",
         "Male",
         "2nd Class",
         "yes",
         "79",
         "Delhi"
        ],
        [
         "46",
         "47",
         "18",
         "Female",
         "3rd Class",
         "no",
         "46",
         "Mumbai"
        ],
        [
         "47",
         "48",
         "21",
         "Male",
         "2nd Class",
         "yes",
         "67",
         "Pune"
        ],
        [
         "48",
         "49",
         "19",
         "Male",
         "2nd Class",
         "no",
         "68",
         "Kochi"
        ],
        [
         "49",
         "50",
         "20",
         "Female",
         "3rd Class",
         "yes",
         "47",
         "Gwalior"
        ]
       ],
       "shape": {
        "columns": 7,
        "rows": 232
       }
      },
      "text/html": [
       "<div>\n",
       "<style scoped>\n",
       "    .dataframe tbody tr th:only-of-type {\n",
       "        vertical-align: middle;\n",
       "    }\n",
       "\n",
       "    .dataframe tbody tr th {\n",
       "        vertical-align: top;\n",
       "    }\n",
       "\n",
       "    .dataframe thead th {\n",
       "        text-align: right;\n",
       "    }\n",
       "</style>\n",
       "<table border=\"1\" class=\"dataframe\">\n",
       "  <thead>\n",
       "    <tr style=\"text-align: right;\">\n",
       "      <th></th>\n",
       "      <th>Student_id</th>\n",
       "      <th>Age</th>\n",
       "      <th>Gender</th>\n",
       "      <th>Grade</th>\n",
       "      <th>Employed</th>\n",
       "      <th>Mark</th>\n",
       "      <th>City</th>\n",
       "    </tr>\n",
       "  </thead>\n",
       "  <tbody>\n",
       "    <tr>\n",
       "      <th>0</th>\n",
       "      <td>1</td>\n",
       "      <td>19</td>\n",
       "      <td>Male</td>\n",
       "      <td>1st Class</td>\n",
       "      <td>yes</td>\n",
       "      <td>95</td>\n",
       "      <td>Chennai</td>\n",
       "    </tr>\n",
       "    <tr>\n",
       "      <th>1</th>\n",
       "      <td>2</td>\n",
       "      <td>20</td>\n",
       "      <td>Female</td>\n",
       "      <td>2nd Class</td>\n",
       "      <td>no</td>\n",
       "      <td>70</td>\n",
       "      <td>Delhi</td>\n",
       "    </tr>\n",
       "    <tr>\n",
       "      <th>2</th>\n",
       "      <td>3</td>\n",
       "      <td>18</td>\n",
       "      <td>Male</td>\n",
       "      <td>1st Class</td>\n",
       "      <td>no</td>\n",
       "      <td>98</td>\n",
       "      <td>Mumbai</td>\n",
       "    </tr>\n",
       "    <tr>\n",
       "      <th>3</th>\n",
       "      <td>4</td>\n",
       "      <td>21</td>\n",
       "      <td>Female</td>\n",
       "      <td>2nd Class</td>\n",
       "      <td>no</td>\n",
       "      <td>75</td>\n",
       "      <td>Pune</td>\n",
       "    </tr>\n",
       "    <tr>\n",
       "      <th>4</th>\n",
       "      <td>5</td>\n",
       "      <td>19</td>\n",
       "      <td>Male</td>\n",
       "      <td>1st Class</td>\n",
       "      <td>no</td>\n",
       "      <td>89</td>\n",
       "      <td>Kochi</td>\n",
       "    </tr>\n",
       "    <tr>\n",
       "      <th>...</th>\n",
       "      <td>...</td>\n",
       "      <td>...</td>\n",
       "      <td>...</td>\n",
       "      <td>...</td>\n",
       "      <td>...</td>\n",
       "      <td>...</td>\n",
       "      <td>...</td>\n",
       "    </tr>\n",
       "    <tr>\n",
       "      <th>227</th>\n",
       "      <td>228</td>\n",
       "      <td>21</td>\n",
       "      <td>Female</td>\n",
       "      <td>1st Class</td>\n",
       "      <td>no</td>\n",
       "      <td>99</td>\n",
       "      <td>Pune</td>\n",
       "    </tr>\n",
       "    <tr>\n",
       "      <th>228</th>\n",
       "      <td>229</td>\n",
       "      <td>20</td>\n",
       "      <td>Male</td>\n",
       "      <td>2nd Class</td>\n",
       "      <td>no</td>\n",
       "      <td>70</td>\n",
       "      <td>Chennai</td>\n",
       "    </tr>\n",
       "    <tr>\n",
       "      <th>229</th>\n",
       "      <td>230</td>\n",
       "      <td>20</td>\n",
       "      <td>Male</td>\n",
       "      <td>3rd Class</td>\n",
       "      <td>yes</td>\n",
       "      <td>55</td>\n",
       "      <td>Delhi</td>\n",
       "    </tr>\n",
       "    <tr>\n",
       "      <th>230</th>\n",
       "      <td>231</td>\n",
       "      <td>19</td>\n",
       "      <td>Female</td>\n",
       "      <td>1st Class</td>\n",
       "      <td>yes</td>\n",
       "      <td>97</td>\n",
       "      <td>Mumbai</td>\n",
       "    </tr>\n",
       "    <tr>\n",
       "      <th>231</th>\n",
       "      <td>232</td>\n",
       "      <td>20</td>\n",
       "      <td>Male</td>\n",
       "      <td>3rd Class</td>\n",
       "      <td>yes</td>\n",
       "      <td>59</td>\n",
       "      <td>Pune</td>\n",
       "    </tr>\n",
       "  </tbody>\n",
       "</table>\n",
       "<p>232 rows × 7 columns</p>\n",
       "</div>"
      ],
      "text/plain": [
       "     Student_id  Age  Gender      Grade Employed  Mark     City\n",
       "0             1   19    Male  1st Class      yes    95  Chennai\n",
       "1             2   20  Female  2nd Class       no    70    Delhi\n",
       "2             3   18    Male  1st Class       no    98   Mumbai\n",
       "3             4   21  Female  2nd Class       no    75     Pune\n",
       "4             5   19    Male  1st Class       no    89    Kochi\n",
       "..          ...  ...     ...        ...      ...   ...      ...\n",
       "227         228   21  Female  1st Class       no    99     Pune\n",
       "228         229   20    Male  2nd Class       no    70  Chennai\n",
       "229         230   20    Male  3rd Class      yes    55    Delhi\n",
       "230         231   19  Female  1st Class      yes    97   Mumbai\n",
       "231         232   20    Male  3rd Class      yes    59     Pune\n",
       "\n",
       "[232 rows x 7 columns]"
      ]
     },
     "execution_count": 2,
     "metadata": {},
     "output_type": "execute_result"
    }
   ],
   "source": [
    "# Merge dataframes on Student_id column\n",
    "merged_student_marks_df = pd.merge(student_df, mark_df, on='Student_id')\n",
    "merged_student_marks_df"
   ]
  },
  {
   "cell_type": "markdown",
   "id": "1f60a023",
   "metadata": {},
   "source": [
    "### pd.merge() Relationship Type \n",
    "- 1-1\n",
    "- 1-M\n",
    "- M-M"
   ]
  },
  {
   "cell_type": "code",
   "execution_count": 3,
   "id": "29e299b8",
   "metadata": {},
   "outputs": [
    {
     "data": {
      "application/vnd.microsoft.datawrangler.viewer.v0+json": {
       "columns": [
        {
         "name": "index",
         "rawType": "int64",
         "type": "integer"
        },
        {
         "name": "Name",
         "rawType": "object",
         "type": "string"
        },
        {
         "name": "Department",
         "rawType": "object",
         "type": "string"
        }
       ],
       "ref": "7547da3e-8a35-44ba-b331-f0a84edaedde",
       "rows": [
        [
         "0",
         "Bob",
         "Accounting"
        ],
        [
         "1",
         "Jake",
         "Engineering"
        ],
        [
         "2",
         "Lisa",
         "Engineering"
        ],
        [
         "3",
         "Sue",
         "HR"
        ]
       ],
       "shape": {
        "columns": 2,
        "rows": 4
       }
      },
      "text/html": [
       "<div>\n",
       "<style scoped>\n",
       "    .dataframe tbody tr th:only-of-type {\n",
       "        vertical-align: middle;\n",
       "    }\n",
       "\n",
       "    .dataframe tbody tr th {\n",
       "        vertical-align: top;\n",
       "    }\n",
       "\n",
       "    .dataframe thead th {\n",
       "        text-align: right;\n",
       "    }\n",
       "</style>\n",
       "<table border=\"1\" class=\"dataframe\">\n",
       "  <thead>\n",
       "    <tr style=\"text-align: right;\">\n",
       "      <th></th>\n",
       "      <th>Name</th>\n",
       "      <th>Department</th>\n",
       "    </tr>\n",
       "  </thead>\n",
       "  <tbody>\n",
       "    <tr>\n",
       "      <th>0</th>\n",
       "      <td>Bob</td>\n",
       "      <td>Accounting</td>\n",
       "    </tr>\n",
       "    <tr>\n",
       "      <th>1</th>\n",
       "      <td>Jake</td>\n",
       "      <td>Engineering</td>\n",
       "    </tr>\n",
       "    <tr>\n",
       "      <th>2</th>\n",
       "      <td>Lisa</td>\n",
       "      <td>Engineering</td>\n",
       "    </tr>\n",
       "    <tr>\n",
       "      <th>3</th>\n",
       "      <td>Sue</td>\n",
       "      <td>HR</td>\n",
       "    </tr>\n",
       "  </tbody>\n",
       "</table>\n",
       "</div>"
      ],
      "text/plain": [
       "   Name   Department\n",
       "0   Bob   Accounting\n",
       "1  Jake  Engineering\n",
       "2  Lisa  Engineering\n",
       "3   Sue           HR"
      ]
     },
     "metadata": {},
     "output_type": "display_data"
    }
   ],
   "source": [
    "# Create a DataFrame for Employee details\n",
    "employee_df = pd.DataFrame({\n",
    "    'Name': ['Bob', 'Jake', 'Lisa', 'Sue'],\n",
    "    'Department': ['Accounting', 'Engineering', 'Engineering', 'HR']\n",
    "})\n",
    "\n",
    "display(employee_df)"
   ]
  },
  {
   "cell_type": "code",
   "execution_count": 4,
   "id": "f896b4ef",
   "metadata": {},
   "outputs": [
    {
     "data": {
      "application/vnd.microsoft.datawrangler.viewer.v0+json": {
       "columns": [
        {
         "name": "index",
         "rawType": "int64",
         "type": "integer"
        },
        {
         "name": "Name",
         "rawType": "object",
         "type": "string"
        },
        {
         "name": "Hire_Date",
         "rawType": "object",
         "type": "string"
        }
       ],
       "ref": "3e70799f-1eca-446c-97ad-9a9437997747",
       "rows": [
        [
         "0",
         "Bob",
         "2020-01-15"
        ],
        [
         "1",
         "Jake",
         "2021-07-30"
        ],
        [
         "2",
         "Lisa",
         "2018-11-12"
        ],
        [
         "3",
         "Sue",
         "2020-06-01"
        ]
       ],
       "shape": {
        "columns": 2,
        "rows": 4
       }
      },
      "text/html": [
       "<div>\n",
       "<style scoped>\n",
       "    .dataframe tbody tr th:only-of-type {\n",
       "        vertical-align: middle;\n",
       "    }\n",
       "\n",
       "    .dataframe tbody tr th {\n",
       "        vertical-align: top;\n",
       "    }\n",
       "\n",
       "    .dataframe thead th {\n",
       "        text-align: right;\n",
       "    }\n",
       "</style>\n",
       "<table border=\"1\" class=\"dataframe\">\n",
       "  <thead>\n",
       "    <tr style=\"text-align: right;\">\n",
       "      <th></th>\n",
       "      <th>Name</th>\n",
       "      <th>Hire_Date</th>\n",
       "    </tr>\n",
       "  </thead>\n",
       "  <tbody>\n",
       "    <tr>\n",
       "      <th>0</th>\n",
       "      <td>Bob</td>\n",
       "      <td>2020-01-15</td>\n",
       "    </tr>\n",
       "    <tr>\n",
       "      <th>1</th>\n",
       "      <td>Jake</td>\n",
       "      <td>2021-07-30</td>\n",
       "    </tr>\n",
       "    <tr>\n",
       "      <th>2</th>\n",
       "      <td>Lisa</td>\n",
       "      <td>2018-11-12</td>\n",
       "    </tr>\n",
       "    <tr>\n",
       "      <th>3</th>\n",
       "      <td>Sue</td>\n",
       "      <td>2020-06-01</td>\n",
       "    </tr>\n",
       "  </tbody>\n",
       "</table>\n",
       "</div>"
      ],
      "text/plain": [
       "   Name   Hire_Date\n",
       "0   Bob  2020-01-15\n",
       "1  Jake  2021-07-30\n",
       "2  Lisa  2018-11-12\n",
       "3   Sue  2020-06-01"
      ]
     },
     "metadata": {},
     "output_type": "display_data"
    }
   ],
   "source": [
    "# 1-1 Relationship Example\n",
    "# Create a DataFrame for Employee Hire Dates with potential multiple hire dates for some employees\n",
    "employee_hire_date_df = pd.DataFrame({\n",
    "    'Name': ['Bob', 'Jake', 'Lisa', 'Sue'],\n",
    "    'Hire_Date': ['2020-01-15', '2021-07-30', '2018-11-12', '2020-06-01']\n",
    "})\n",
    "\n",
    "# Display the Employee Hire Date DataFrame\n",
    "display(employee_hire_date_df)"
   ]
  },
  {
   "cell_type": "code",
   "execution_count": 5,
   "id": "8f57f44b",
   "metadata": {},
   "outputs": [
    {
     "data": {
      "application/vnd.microsoft.datawrangler.viewer.v0+json": {
       "columns": [
        {
         "name": "index",
         "rawType": "int64",
         "type": "integer"
        },
        {
         "name": "Name",
         "rawType": "object",
         "type": "string"
        },
        {
         "name": "Department",
         "rawType": "object",
         "type": "string"
        },
        {
         "name": "Hire_Date",
         "rawType": "object",
         "type": "string"
        }
       ],
       "ref": "ac326e66-c022-466f-a78d-b604ed4d2493",
       "rows": [
        [
         "0",
         "Bob",
         "Accounting",
         "2020-01-15"
        ],
        [
         "1",
         "Jake",
         "Engineering",
         "2021-07-30"
        ],
        [
         "2",
         "Lisa",
         "Engineering",
         "2018-11-12"
        ],
        [
         "3",
         "Sue",
         "HR",
         "2020-06-01"
        ]
       ],
       "shape": {
        "columns": 3,
        "rows": 4
       }
      },
      "text/html": [
       "<div>\n",
       "<style scoped>\n",
       "    .dataframe tbody tr th:only-of-type {\n",
       "        vertical-align: middle;\n",
       "    }\n",
       "\n",
       "    .dataframe tbody tr th {\n",
       "        vertical-align: top;\n",
       "    }\n",
       "\n",
       "    .dataframe thead th {\n",
       "        text-align: right;\n",
       "    }\n",
       "</style>\n",
       "<table border=\"1\" class=\"dataframe\">\n",
       "  <thead>\n",
       "    <tr style=\"text-align: right;\">\n",
       "      <th></th>\n",
       "      <th>Name</th>\n",
       "      <th>Department</th>\n",
       "      <th>Hire_Date</th>\n",
       "    </tr>\n",
       "  </thead>\n",
       "  <tbody>\n",
       "    <tr>\n",
       "      <th>0</th>\n",
       "      <td>Bob</td>\n",
       "      <td>Accounting</td>\n",
       "      <td>2020-01-15</td>\n",
       "    </tr>\n",
       "    <tr>\n",
       "      <th>1</th>\n",
       "      <td>Jake</td>\n",
       "      <td>Engineering</td>\n",
       "      <td>2021-07-30</td>\n",
       "    </tr>\n",
       "    <tr>\n",
       "      <th>2</th>\n",
       "      <td>Lisa</td>\n",
       "      <td>Engineering</td>\n",
       "      <td>2018-11-12</td>\n",
       "    </tr>\n",
       "    <tr>\n",
       "      <th>3</th>\n",
       "      <td>Sue</td>\n",
       "      <td>HR</td>\n",
       "      <td>2020-06-01</td>\n",
       "    </tr>\n",
       "  </tbody>\n",
       "</table>\n",
       "</div>"
      ],
      "text/plain": [
       "   Name   Department   Hire_Date\n",
       "0   Bob   Accounting  2020-01-15\n",
       "1  Jake  Engineering  2021-07-30\n",
       "2  Lisa  Engineering  2018-11-12\n",
       "3   Sue           HR  2020-06-01"
      ]
     },
     "execution_count": 5,
     "metadata": {},
     "output_type": "execute_result"
    }
   ],
   "source": [
    "# Merge employee_df with employee_hire_date_df on Employee_id to demonstrate 1-1 relationship\n",
    "merged_employee_hire_df = pd.merge(employee_df, employee_hire_date_df)\n",
    "merged_employee_hire_df"
   ]
  },
  {
   "cell_type": "code",
   "execution_count": 6,
   "id": "daddd5a7",
   "metadata": {},
   "outputs": [
    {
     "data": {
      "application/vnd.microsoft.datawrangler.viewer.v0+json": {
       "columns": [
        {
         "name": "index",
         "rawType": "int64",
         "type": "integer"
        },
        {
         "name": "manager",
         "rawType": "object",
         "type": "string"
        },
        {
         "name": "Department",
         "rawType": "object",
         "type": "string"
        }
       ],
       "ref": "d33e0f9e-0daf-4d4f-8892-157420bb7911",
       "rows": [
        [
         "0",
         "Sam",
         "Accounting"
        ],
        [
         "1",
         "Charlie",
         "Engineering"
        ],
        [
         "2",
         "John",
         "HR"
        ]
       ],
       "shape": {
        "columns": 2,
        "rows": 3
       }
      },
      "text/html": [
       "<div>\n",
       "<style scoped>\n",
       "    .dataframe tbody tr th:only-of-type {\n",
       "        vertical-align: middle;\n",
       "    }\n",
       "\n",
       "    .dataframe tbody tr th {\n",
       "        vertical-align: top;\n",
       "    }\n",
       "\n",
       "    .dataframe thead th {\n",
       "        text-align: right;\n",
       "    }\n",
       "</style>\n",
       "<table border=\"1\" class=\"dataframe\">\n",
       "  <thead>\n",
       "    <tr style=\"text-align: right;\">\n",
       "      <th></th>\n",
       "      <th>manager</th>\n",
       "      <th>Department</th>\n",
       "    </tr>\n",
       "  </thead>\n",
       "  <tbody>\n",
       "    <tr>\n",
       "      <th>0</th>\n",
       "      <td>Sam</td>\n",
       "      <td>Accounting</td>\n",
       "    </tr>\n",
       "    <tr>\n",
       "      <th>1</th>\n",
       "      <td>Charlie</td>\n",
       "      <td>Engineering</td>\n",
       "    </tr>\n",
       "    <tr>\n",
       "      <th>2</th>\n",
       "      <td>John</td>\n",
       "      <td>HR</td>\n",
       "    </tr>\n",
       "  </tbody>\n",
       "</table>\n",
       "</div>"
      ],
      "text/plain": [
       "   manager   Department\n",
       "0      Sam   Accounting\n",
       "1  Charlie  Engineering\n",
       "2     John           HR"
      ]
     },
     "metadata": {},
     "output_type": "display_data"
    }
   ],
   "source": [
    "# Now Department manager DataFrame\n",
    "department_manager_df = pd.DataFrame({'manager': ['Sam', 'Charlie' , 'John'],\n",
    "                                      'Department': ['Accounting', 'Engineering', 'HR']})\n",
    "\n",
    "display(department_manager_df)"
   ]
  },
  {
   "cell_type": "code",
   "execution_count": 7,
   "id": "bd02abee",
   "metadata": {},
   "outputs": [
    {
     "data": {
      "application/vnd.microsoft.datawrangler.viewer.v0+json": {
       "columns": [
        {
         "name": "index",
         "rawType": "int64",
         "type": "integer"
        },
        {
         "name": "Name",
         "rawType": "object",
         "type": "string"
        },
        {
         "name": "Department",
         "rawType": "object",
         "type": "string"
        },
        {
         "name": "manager",
         "rawType": "object",
         "type": "string"
        }
       ],
       "ref": "ba483680-550e-4ec9-9ea1-0cc68dabe1ac",
       "rows": [
        [
         "0",
         "Bob",
         "Accounting",
         "Sam"
        ],
        [
         "1",
         "Jake",
         "Engineering",
         "Charlie"
        ],
        [
         "2",
         "Lisa",
         "Engineering",
         "Charlie"
        ],
        [
         "3",
         "Sue",
         "HR",
         "John"
        ]
       ],
       "shape": {
        "columns": 3,
        "rows": 4
       }
      },
      "text/html": [
       "<div>\n",
       "<style scoped>\n",
       "    .dataframe tbody tr th:only-of-type {\n",
       "        vertical-align: middle;\n",
       "    }\n",
       "\n",
       "    .dataframe tbody tr th {\n",
       "        vertical-align: top;\n",
       "    }\n",
       "\n",
       "    .dataframe thead th {\n",
       "        text-align: right;\n",
       "    }\n",
       "</style>\n",
       "<table border=\"1\" class=\"dataframe\">\n",
       "  <thead>\n",
       "    <tr style=\"text-align: right;\">\n",
       "      <th></th>\n",
       "      <th>Name</th>\n",
       "      <th>Department</th>\n",
       "      <th>manager</th>\n",
       "    </tr>\n",
       "  </thead>\n",
       "  <tbody>\n",
       "    <tr>\n",
       "      <th>0</th>\n",
       "      <td>Bob</td>\n",
       "      <td>Accounting</td>\n",
       "      <td>Sam</td>\n",
       "    </tr>\n",
       "    <tr>\n",
       "      <th>1</th>\n",
       "      <td>Jake</td>\n",
       "      <td>Engineering</td>\n",
       "      <td>Charlie</td>\n",
       "    </tr>\n",
       "    <tr>\n",
       "      <th>2</th>\n",
       "      <td>Lisa</td>\n",
       "      <td>Engineering</td>\n",
       "      <td>Charlie</td>\n",
       "    </tr>\n",
       "    <tr>\n",
       "      <th>3</th>\n",
       "      <td>Sue</td>\n",
       "      <td>HR</td>\n",
       "      <td>John</td>\n",
       "    </tr>\n",
       "  </tbody>\n",
       "</table>\n",
       "</div>"
      ],
      "text/plain": [
       "   Name   Department  manager\n",
       "0   Bob   Accounting      Sam\n",
       "1  Jake  Engineering  Charlie\n",
       "2  Lisa  Engineering  Charlie\n",
       "3   Sue           HR     John"
      ]
     },
     "execution_count": 7,
     "metadata": {},
     "output_type": "execute_result"
    }
   ],
   "source": [
    "# 1 to many relationship example\n",
    "merged_employee_department_df = pd.merge(employee_df, department_manager_df)\n",
    "merged_employee_department_df"
   ]
  },
  {
   "cell_type": "code",
   "execution_count": 8,
   "id": "7b573ddd",
   "metadata": {},
   "outputs": [
    {
     "data": {
      "application/vnd.microsoft.datawrangler.viewer.v0+json": {
       "columns": [
        {
         "name": "index",
         "rawType": "int64",
         "type": "integer"
        },
        {
         "name": "group",
         "rawType": "object",
         "type": "string"
        },
        {
         "name": "skill",
         "rawType": "object",
         "type": "string"
        }
       ],
       "ref": "1ad081e0-bfbb-4a31-8eca-f3796f876915",
       "rows": [
        [
         "0",
         "Accounting",
         "math"
        ],
        [
         "1",
         "Accounting",
         "Excel"
        ],
        [
         "2",
         "Engineering",
         "SQL"
        ],
        [
         "3",
         "HR",
         "Problem Solving"
        ]
       ],
       "shape": {
        "columns": 2,
        "rows": 4
       }
      },
      "text/html": [
       "<div>\n",
       "<style scoped>\n",
       "    .dataframe tbody tr th:only-of-type {\n",
       "        vertical-align: middle;\n",
       "    }\n",
       "\n",
       "    .dataframe tbody tr th {\n",
       "        vertical-align: top;\n",
       "    }\n",
       "\n",
       "    .dataframe thead th {\n",
       "        text-align: right;\n",
       "    }\n",
       "</style>\n",
       "<table border=\"1\" class=\"dataframe\">\n",
       "  <thead>\n",
       "    <tr style=\"text-align: right;\">\n",
       "      <th></th>\n",
       "      <th>group</th>\n",
       "      <th>skill</th>\n",
       "    </tr>\n",
       "  </thead>\n",
       "  <tbody>\n",
       "    <tr>\n",
       "      <th>0</th>\n",
       "      <td>Accounting</td>\n",
       "      <td>math</td>\n",
       "    </tr>\n",
       "    <tr>\n",
       "      <th>1</th>\n",
       "      <td>Accounting</td>\n",
       "      <td>Excel</td>\n",
       "    </tr>\n",
       "    <tr>\n",
       "      <th>2</th>\n",
       "      <td>Engineering</td>\n",
       "      <td>SQL</td>\n",
       "    </tr>\n",
       "    <tr>\n",
       "      <th>3</th>\n",
       "      <td>HR</td>\n",
       "      <td>Problem Solving</td>\n",
       "    </tr>\n",
       "  </tbody>\n",
       "</table>\n",
       "</div>"
      ],
      "text/plain": [
       "         group            skill\n",
       "0   Accounting             math\n",
       "1   Accounting            Excel\n",
       "2  Engineering              SQL\n",
       "3           HR  Problem Solving"
      ]
     },
     "metadata": {},
     "output_type": "display_data"
    }
   ],
   "source": [
    "# many to many relationship example\n",
    "# required skills: SQL, pandas, Excel\n",
    "# employees: Bob, Lisa, Sue\n",
    "\n",
    "required_group_skills_df = pd.DataFrame({'group': ['Accounting', 'Accounting', 'Engineering', 'HR'],\n",
    "                                            'skill': ['math', 'Excel', 'SQL', 'Problem Solving']})\n",
    "display(required_group_skills_df)\n"
   ]
  },
  {
   "cell_type": "code",
   "execution_count": 9,
   "id": "1ff4482c",
   "metadata": {},
   "outputs": [
    {
     "data": {
      "application/vnd.microsoft.datawrangler.viewer.v0+json": {
       "columns": [
        {
         "name": "index",
         "rawType": "int64",
         "type": "integer"
        },
        {
         "name": "Name",
         "rawType": "object",
         "type": "string"
        },
        {
         "name": "Department",
         "rawType": "object",
         "type": "string"
        },
        {
         "name": "manager",
         "rawType": "object",
         "type": "string"
        }
       ],
       "ref": "8681f2fb-834b-44d4-8f16-7953c268a97a",
       "rows": [
        [
         "0",
         "Bob",
         "Accounting",
         "Sam"
        ],
        [
         "1",
         "Jake",
         "Engineering",
         "Charlie"
        ],
        [
         "2",
         "Lisa",
         "Engineering",
         "Charlie"
        ],
        [
         "3",
         "Sue",
         "HR",
         "John"
        ]
       ],
       "shape": {
        "columns": 3,
        "rows": 4
       }
      },
      "text/html": [
       "<div>\n",
       "<style scoped>\n",
       "    .dataframe tbody tr th:only-of-type {\n",
       "        vertical-align: middle;\n",
       "    }\n",
       "\n",
       "    .dataframe tbody tr th {\n",
       "        vertical-align: top;\n",
       "    }\n",
       "\n",
       "    .dataframe thead th {\n",
       "        text-align: right;\n",
       "    }\n",
       "</style>\n",
       "<table border=\"1\" class=\"dataframe\">\n",
       "  <thead>\n",
       "    <tr style=\"text-align: right;\">\n",
       "      <th></th>\n",
       "      <th>Name</th>\n",
       "      <th>Department</th>\n",
       "      <th>manager</th>\n",
       "    </tr>\n",
       "  </thead>\n",
       "  <tbody>\n",
       "    <tr>\n",
       "      <th>0</th>\n",
       "      <td>Bob</td>\n",
       "      <td>Accounting</td>\n",
       "      <td>Sam</td>\n",
       "    </tr>\n",
       "    <tr>\n",
       "      <th>1</th>\n",
       "      <td>Jake</td>\n",
       "      <td>Engineering</td>\n",
       "      <td>Charlie</td>\n",
       "    </tr>\n",
       "    <tr>\n",
       "      <th>2</th>\n",
       "      <td>Lisa</td>\n",
       "      <td>Engineering</td>\n",
       "      <td>Charlie</td>\n",
       "    </tr>\n",
       "    <tr>\n",
       "      <th>3</th>\n",
       "      <td>Sue</td>\n",
       "      <td>HR</td>\n",
       "      <td>John</td>\n",
       "    </tr>\n",
       "  </tbody>\n",
       "</table>\n",
       "</div>"
      ],
      "text/plain": [
       "   Name   Department  manager\n",
       "0   Bob   Accounting      Sam\n",
       "1  Jake  Engineering  Charlie\n",
       "2  Lisa  Engineering  Charlie\n",
       "3   Sue           HR     John"
      ]
     },
     "execution_count": 9,
     "metadata": {},
     "output_type": "execute_result"
    }
   ],
   "source": [
    "# many to many relationship merge\n",
    "merged_employee_skills_df = pd.merge(employee_df, department_manager_df, on='Department')\n",
    "merged_employee_skills_df"
   ]
  },
  {
   "cell_type": "code",
   "execution_count": 10,
   "id": "09963952",
   "metadata": {},
   "outputs": [
    {
     "data": {
      "application/vnd.microsoft.datawrangler.viewer.v0+json": {
       "columns": [
        {
         "name": "index",
         "rawType": "int64",
         "type": "integer"
        },
        {
         "name": "First Name",
         "rawType": "object",
         "type": "string"
        },
        {
         "name": "Last Name",
         "rawType": "object",
         "type": "string"
        },
        {
         "name": "Department",
         "rawType": "object",
         "type": "string"
        }
       ],
       "ref": "0218e686-23f6-4e49-9a8a-72209bf34b56",
       "rows": [
        [
         "0",
         "John",
         "Doe",
         "Accounting"
        ],
        [
         "1",
         "Jane",
         "Smith",
         "Engineering"
        ],
        [
         "2",
         "Jim",
         "Brown",
         "Engineering"
        ],
        [
         "3",
         "John",
         "Davis",
         "HR"
        ]
       ],
       "shape": {
        "columns": 3,
        "rows": 4
       }
      },
      "text/html": [
       "<div>\n",
       "<style scoped>\n",
       "    .dataframe tbody tr th:only-of-type {\n",
       "        vertical-align: middle;\n",
       "    }\n",
       "\n",
       "    .dataframe tbody tr th {\n",
       "        vertical-align: top;\n",
       "    }\n",
       "\n",
       "    .dataframe thead th {\n",
       "        text-align: right;\n",
       "    }\n",
       "</style>\n",
       "<table border=\"1\" class=\"dataframe\">\n",
       "  <thead>\n",
       "    <tr style=\"text-align: right;\">\n",
       "      <th></th>\n",
       "      <th>First Name</th>\n",
       "      <th>Last Name</th>\n",
       "      <th>Department</th>\n",
       "    </tr>\n",
       "  </thead>\n",
       "  <tbody>\n",
       "    <tr>\n",
       "      <th>0</th>\n",
       "      <td>John</td>\n",
       "      <td>Doe</td>\n",
       "      <td>Accounting</td>\n",
       "    </tr>\n",
       "    <tr>\n",
       "      <th>1</th>\n",
       "      <td>Jane</td>\n",
       "      <td>Smith</td>\n",
       "      <td>Engineering</td>\n",
       "    </tr>\n",
       "    <tr>\n",
       "      <th>2</th>\n",
       "      <td>Jim</td>\n",
       "      <td>Brown</td>\n",
       "      <td>Engineering</td>\n",
       "    </tr>\n",
       "    <tr>\n",
       "      <th>3</th>\n",
       "      <td>John</td>\n",
       "      <td>Davis</td>\n",
       "      <td>HR</td>\n",
       "    </tr>\n",
       "  </tbody>\n",
       "</table>\n",
       "</div>"
      ],
      "text/plain": [
       "  First Name Last Name   Department\n",
       "0       John       Doe   Accounting\n",
       "1       Jane     Smith  Engineering\n",
       "2        Jim     Brown  Engineering\n",
       "3       John     Davis           HR"
      ]
     },
     "metadata": {},
     "output_type": "display_data"
    },
    {
     "data": {
      "application/vnd.microsoft.datawrangler.viewer.v0+json": {
       "columns": [
        {
         "name": "index",
         "rawType": "int64",
         "type": "integer"
        },
        {
         "name": "First Name",
         "rawType": "object",
         "type": "string"
        },
        {
         "name": "Last Name",
         "rawType": "object",
         "type": "string"
        },
        {
         "name": "Hire Date",
         "rawType": "object",
         "type": "string"
        }
       ],
       "ref": "b69fce3b-d4d7-48db-8906-f1264a3b4d79",
       "rows": [
        [
         "0",
         "John",
         "Doe",
         "2020-01-15"
        ],
        [
         "1",
         "Jane",
         "Smith",
         "2021-07-30"
        ],
        [
         "2",
         "Jim",
         "Brown",
         "2018-11-12"
        ],
        [
         "3",
         "John",
         "Davis",
         "2020-06-01"
        ]
       ],
       "shape": {
        "columns": 3,
        "rows": 4
       }
      },
      "text/html": [
       "<div>\n",
       "<style scoped>\n",
       "    .dataframe tbody tr th:only-of-type {\n",
       "        vertical-align: middle;\n",
       "    }\n",
       "\n",
       "    .dataframe tbody tr th {\n",
       "        vertical-align: top;\n",
       "    }\n",
       "\n",
       "    .dataframe thead th {\n",
       "        text-align: right;\n",
       "    }\n",
       "</style>\n",
       "<table border=\"1\" class=\"dataframe\">\n",
       "  <thead>\n",
       "    <tr style=\"text-align: right;\">\n",
       "      <th></th>\n",
       "      <th>First Name</th>\n",
       "      <th>Last Name</th>\n",
       "      <th>Hire Date</th>\n",
       "    </tr>\n",
       "  </thead>\n",
       "  <tbody>\n",
       "    <tr>\n",
       "      <th>0</th>\n",
       "      <td>John</td>\n",
       "      <td>Doe</td>\n",
       "      <td>2020-01-15</td>\n",
       "    </tr>\n",
       "    <tr>\n",
       "      <th>1</th>\n",
       "      <td>Jane</td>\n",
       "      <td>Smith</td>\n",
       "      <td>2021-07-30</td>\n",
       "    </tr>\n",
       "    <tr>\n",
       "      <th>2</th>\n",
       "      <td>Jim</td>\n",
       "      <td>Brown</td>\n",
       "      <td>2018-11-12</td>\n",
       "    </tr>\n",
       "    <tr>\n",
       "      <th>3</th>\n",
       "      <td>John</td>\n",
       "      <td>Davis</td>\n",
       "      <td>2020-06-01</td>\n",
       "    </tr>\n",
       "  </tbody>\n",
       "</table>\n",
       "</div>"
      ],
      "text/plain": [
       "  First Name Last Name   Hire Date\n",
       "0       John       Doe  2020-01-15\n",
       "1       Jane     Smith  2021-07-30\n",
       "2        Jim     Brown  2018-11-12\n",
       "3       John     Davis  2020-06-01"
      ]
     },
     "metadata": {},
     "output_type": "display_data"
    }
   ],
   "source": [
    "# pd.merge() arguments\n",
    "# how: 'inner' (default), 'outer', 'left', 'right'\n",
    "\n",
    "#Exaple of dataframes with  First Names repaeating\n",
    "employee_df1 = pd.DataFrame({'First Name': ['John', 'Jane', 'Jim', 'John'],\n",
    "                    'Last Name': ['Doe', 'Smith', 'Brown', 'Davis'],\n",
    "                    'Department': ['Accounting', 'Engineering', 'Engineering', 'HR']})\n",
    "\n",
    "\n",
    "employee_hire_date_df1 = pd.DataFrame({'First Name': ['John', 'Jane', 'Jim', 'John'],\n",
    "                                      'Last Name': ['Doe', 'Smith', 'Brown', 'Davis'],\n",
    "                        'Hire Date': ['2020-01-15', '2021-07-30', '2018-11-12', '2020-06-01']})\n",
    "\n",
    "display(employee_df1, employee_hire_date_df1)"
   ]
  },
  {
   "cell_type": "code",
   "execution_count": 11,
   "id": "f3ea17c5",
   "metadata": {},
   "outputs": [
    {
     "data": {
      "application/vnd.microsoft.datawrangler.viewer.v0+json": {
       "columns": [
        {
         "name": "index",
         "rawType": "int64",
         "type": "integer"
        },
        {
         "name": "First Name",
         "rawType": "object",
         "type": "string"
        },
        {
         "name": "Salary",
         "rawType": "int64",
         "type": "integer"
        }
       ],
       "ref": "06ec29bc-6208-4012-aa97-4e68a903bf2e",
       "rows": [
        [
         "0",
         "John",
         "70000"
        ],
        [
         "1",
         "Jane",
         "80000"
        ],
        [
         "2",
         "Jim",
         "60000"
        ],
        [
         "3",
         "John",
         "75000"
        ]
       ],
       "shape": {
        "columns": 2,
        "rows": 4
       }
      },
      "text/html": [
       "<div>\n",
       "<style scoped>\n",
       "    .dataframe tbody tr th:only-of-type {\n",
       "        vertical-align: middle;\n",
       "    }\n",
       "\n",
       "    .dataframe tbody tr th {\n",
       "        vertical-align: top;\n",
       "    }\n",
       "\n",
       "    .dataframe thead th {\n",
       "        text-align: right;\n",
       "    }\n",
       "</style>\n",
       "<table border=\"1\" class=\"dataframe\">\n",
       "  <thead>\n",
       "    <tr style=\"text-align: right;\">\n",
       "      <th></th>\n",
       "      <th>First Name</th>\n",
       "      <th>Salary</th>\n",
       "    </tr>\n",
       "  </thead>\n",
       "  <tbody>\n",
       "    <tr>\n",
       "      <th>0</th>\n",
       "      <td>John</td>\n",
       "      <td>70000</td>\n",
       "    </tr>\n",
       "    <tr>\n",
       "      <th>1</th>\n",
       "      <td>Jane</td>\n",
       "      <td>80000</td>\n",
       "    </tr>\n",
       "    <tr>\n",
       "      <th>2</th>\n",
       "      <td>Jim</td>\n",
       "      <td>60000</td>\n",
       "    </tr>\n",
       "    <tr>\n",
       "      <th>3</th>\n",
       "      <td>John</td>\n",
       "      <td>75000</td>\n",
       "    </tr>\n",
       "  </tbody>\n",
       "</table>\n",
       "</div>"
      ],
      "text/plain": [
       "  First Name  Salary\n",
       "0       John   70000\n",
       "1       Jane   80000\n",
       "2        Jim   60000\n",
       "3       John   75000"
      ]
     },
     "metadata": {},
     "output_type": "display_data"
    }
   ],
   "source": [
    "# salary dataframe with first names and salary\n",
    "employee_salary_df1 = pd.DataFrame({'First Name': ['John', 'Jane', 'Jim', 'John'],\n",
    "                                     'Salary': [70000, 80000, 60000, 75000]})\n",
    "\n",
    "display(employee_salary_df1)"
   ]
  },
  {
   "cell_type": "code",
   "execution_count": 12,
   "id": "461f0edf",
   "metadata": {},
   "outputs": [
    {
     "name": "stdout",
     "output_type": "stream",
     "text": [
      "Employee Food and Drink DataFrames:\n"
     ]
    },
    {
     "data": {
      "application/vnd.microsoft.datawrangler.viewer.v0+json": {
       "columns": [
        {
         "name": "index",
         "rawType": "int64",
         "type": "integer"
        },
        {
         "name": "name",
         "rawType": "object",
         "type": "string"
        },
        {
         "name": "food",
         "rawType": "object",
         "type": "string"
        }
       ],
       "ref": "5727ed78-ccf6-479a-a0a8-29d90f0667fc",
       "rows": [
        [
         "0",
         "Peter",
         "Pizza"
        ],
        [
         "1",
         "Paul",
         "Pasta"
        ],
        [
         "2",
         "Mary",
         "Burger"
        ]
       ],
       "shape": {
        "columns": 2,
        "rows": 3
       }
      },
      "text/html": [
       "<div>\n",
       "<style scoped>\n",
       "    .dataframe tbody tr th:only-of-type {\n",
       "        vertical-align: middle;\n",
       "    }\n",
       "\n",
       "    .dataframe tbody tr th {\n",
       "        vertical-align: top;\n",
       "    }\n",
       "\n",
       "    .dataframe thead th {\n",
       "        text-align: right;\n",
       "    }\n",
       "</style>\n",
       "<table border=\"1\" class=\"dataframe\">\n",
       "  <thead>\n",
       "    <tr style=\"text-align: right;\">\n",
       "      <th></th>\n",
       "      <th>name</th>\n",
       "      <th>food</th>\n",
       "    </tr>\n",
       "  </thead>\n",
       "  <tbody>\n",
       "    <tr>\n",
       "      <th>0</th>\n",
       "      <td>Peter</td>\n",
       "      <td>Pizza</td>\n",
       "    </tr>\n",
       "    <tr>\n",
       "      <th>1</th>\n",
       "      <td>Paul</td>\n",
       "      <td>Pasta</td>\n",
       "    </tr>\n",
       "    <tr>\n",
       "      <th>2</th>\n",
       "      <td>Mary</td>\n",
       "      <td>Burger</td>\n",
       "    </tr>\n",
       "  </tbody>\n",
       "</table>\n",
       "</div>"
      ],
      "text/plain": [
       "    name    food\n",
       "0  Peter   Pizza\n",
       "1   Paul   Pasta\n",
       "2   Mary  Burger"
      ]
     },
     "metadata": {},
     "output_type": "display_data"
    },
    {
     "data": {
      "application/vnd.microsoft.datawrangler.viewer.v0+json": {
       "columns": [
        {
         "name": "index",
         "rawType": "int64",
         "type": "integer"
        },
        {
         "name": "name",
         "rawType": "object",
         "type": "string"
        },
        {
         "name": "drink",
         "rawType": "object",
         "type": "string"
        }
       ],
       "ref": "665befc9-89a0-4f4d-9be0-7ec26e24b343",
       "rows": [
        [
         "0",
         "Joseph",
         "Coke"
        ],
        [
         "1",
         "Carla",
         "Pepsi"
        ],
        [
         "2",
         "Mary",
         "Juice"
        ]
       ],
       "shape": {
        "columns": 2,
        "rows": 3
       }
      },
      "text/html": [
       "<div>\n",
       "<style scoped>\n",
       "    .dataframe tbody tr th:only-of-type {\n",
       "        vertical-align: middle;\n",
       "    }\n",
       "\n",
       "    .dataframe tbody tr th {\n",
       "        vertical-align: top;\n",
       "    }\n",
       "\n",
       "    .dataframe thead th {\n",
       "        text-align: right;\n",
       "    }\n",
       "</style>\n",
       "<table border=\"1\" class=\"dataframe\">\n",
       "  <thead>\n",
       "    <tr style=\"text-align: right;\">\n",
       "      <th></th>\n",
       "      <th>name</th>\n",
       "      <th>drink</th>\n",
       "    </tr>\n",
       "  </thead>\n",
       "  <tbody>\n",
       "    <tr>\n",
       "      <th>0</th>\n",
       "      <td>Joseph</td>\n",
       "      <td>Coke</td>\n",
       "    </tr>\n",
       "    <tr>\n",
       "      <th>1</th>\n",
       "      <td>Carla</td>\n",
       "      <td>Pepsi</td>\n",
       "    </tr>\n",
       "    <tr>\n",
       "      <th>2</th>\n",
       "      <td>Mary</td>\n",
       "      <td>Juice</td>\n",
       "    </tr>\n",
       "  </tbody>\n",
       "</table>\n",
       "</div>"
      ],
      "text/plain": [
       "     name  drink\n",
       "0  Joseph   Coke\n",
       "1   Carla  Pepsi\n",
       "2    Mary  Juice"
      ]
     },
     "metadata": {},
     "output_type": "display_data"
    },
    {
     "name": "stdout",
     "output_type": "stream",
     "text": [
      "Inner Join DataFrame:\n"
     ]
    },
    {
     "data": {
      "application/vnd.microsoft.datawrangler.viewer.v0+json": {
       "columns": [
        {
         "name": "index",
         "rawType": "int64",
         "type": "integer"
        },
        {
         "name": "name",
         "rawType": "object",
         "type": "string"
        },
        {
         "name": "food",
         "rawType": "object",
         "type": "string"
        },
        {
         "name": "drink",
         "rawType": "object",
         "type": "string"
        }
       ],
       "ref": "cd98c4f7-a948-414b-b370-636bea23b2d1",
       "rows": [
        [
         "0",
         "Mary",
         "Burger",
         "Juice"
        ]
       ],
       "shape": {
        "columns": 3,
        "rows": 1
       }
      },
      "text/html": [
       "<div>\n",
       "<style scoped>\n",
       "    .dataframe tbody tr th:only-of-type {\n",
       "        vertical-align: middle;\n",
       "    }\n",
       "\n",
       "    .dataframe tbody tr th {\n",
       "        vertical-align: top;\n",
       "    }\n",
       "\n",
       "    .dataframe thead th {\n",
       "        text-align: right;\n",
       "    }\n",
       "</style>\n",
       "<table border=\"1\" class=\"dataframe\">\n",
       "  <thead>\n",
       "    <tr style=\"text-align: right;\">\n",
       "      <th></th>\n",
       "      <th>name</th>\n",
       "      <th>food</th>\n",
       "      <th>drink</th>\n",
       "    </tr>\n",
       "  </thead>\n",
       "  <tbody>\n",
       "    <tr>\n",
       "      <th>0</th>\n",
       "      <td>Mary</td>\n",
       "      <td>Burger</td>\n",
       "      <td>Juice</td>\n",
       "    </tr>\n",
       "  </tbody>\n",
       "</table>\n",
       "</div>"
      ],
      "text/plain": [
       "   name    food  drink\n",
       "0  Mary  Burger  Juice"
      ]
     },
     "metadata": {},
     "output_type": "display_data"
    },
    {
     "name": "stdout",
     "output_type": "stream",
     "text": [
      "Outer Join DataFrame:\n"
     ]
    },
    {
     "data": {
      "application/vnd.microsoft.datawrangler.viewer.v0+json": {
       "columns": [
        {
         "name": "index",
         "rawType": "int64",
         "type": "integer"
        },
        {
         "name": "name",
         "rawType": "object",
         "type": "string"
        },
        {
         "name": "food",
         "rawType": "object",
         "type": "unknown"
        },
        {
         "name": "drink",
         "rawType": "object",
         "type": "unknown"
        }
       ],
       "ref": "9b9ad7ef-9c43-431e-9ceb-ce62a38030be",
       "rows": [
        [
         "0",
         "Carla",
         null,
         "Pepsi"
        ],
        [
         "1",
         "Joseph",
         null,
         "Coke"
        ],
        [
         "2",
         "Mary",
         "Burger",
         "Juice"
        ],
        [
         "3",
         "Paul",
         "Pasta",
         null
        ],
        [
         "4",
         "Peter",
         "Pizza",
         null
        ]
       ],
       "shape": {
        "columns": 3,
        "rows": 5
       }
      },
      "text/html": [
       "<div>\n",
       "<style scoped>\n",
       "    .dataframe tbody tr th:only-of-type {\n",
       "        vertical-align: middle;\n",
       "    }\n",
       "\n",
       "    .dataframe tbody tr th {\n",
       "        vertical-align: top;\n",
       "    }\n",
       "\n",
       "    .dataframe thead th {\n",
       "        text-align: right;\n",
       "    }\n",
       "</style>\n",
       "<table border=\"1\" class=\"dataframe\">\n",
       "  <thead>\n",
       "    <tr style=\"text-align: right;\">\n",
       "      <th></th>\n",
       "      <th>name</th>\n",
       "      <th>food</th>\n",
       "      <th>drink</th>\n",
       "    </tr>\n",
       "  </thead>\n",
       "  <tbody>\n",
       "    <tr>\n",
       "      <th>0</th>\n",
       "      <td>Carla</td>\n",
       "      <td>NaN</td>\n",
       "      <td>Pepsi</td>\n",
       "    </tr>\n",
       "    <tr>\n",
       "      <th>1</th>\n",
       "      <td>Joseph</td>\n",
       "      <td>NaN</td>\n",
       "      <td>Coke</td>\n",
       "    </tr>\n",
       "    <tr>\n",
       "      <th>2</th>\n",
       "      <td>Mary</td>\n",
       "      <td>Burger</td>\n",
       "      <td>Juice</td>\n",
       "    </tr>\n",
       "    <tr>\n",
       "      <th>3</th>\n",
       "      <td>Paul</td>\n",
       "      <td>Pasta</td>\n",
       "      <td>NaN</td>\n",
       "    </tr>\n",
       "    <tr>\n",
       "      <th>4</th>\n",
       "      <td>Peter</td>\n",
       "      <td>Pizza</td>\n",
       "      <td>NaN</td>\n",
       "    </tr>\n",
       "  </tbody>\n",
       "</table>\n",
       "</div>"
      ],
      "text/plain": [
       "     name    food  drink\n",
       "0   Carla     NaN  Pepsi\n",
       "1  Joseph     NaN   Coke\n",
       "2    Mary  Burger  Juice\n",
       "3    Paul   Pasta    NaN\n",
       "4   Peter   Pizza    NaN"
      ]
     },
     "metadata": {},
     "output_type": "display_data"
    },
    {
     "name": "stdout",
     "output_type": "stream",
     "text": [
      "Left Join DataFrame:\n"
     ]
    },
    {
     "data": {
      "application/vnd.microsoft.datawrangler.viewer.v0+json": {
       "columns": [
        {
         "name": "index",
         "rawType": "int64",
         "type": "integer"
        },
        {
         "name": "name",
         "rawType": "object",
         "type": "string"
        },
        {
         "name": "food",
         "rawType": "object",
         "type": "string"
        },
        {
         "name": "drink",
         "rawType": "object",
         "type": "unknown"
        }
       ],
       "ref": "21678f4f-e18c-44b4-8946-6bd2ddf31a36",
       "rows": [
        [
         "0",
         "Peter",
         "Pizza",
         null
        ],
        [
         "1",
         "Paul",
         "Pasta",
         null
        ],
        [
         "2",
         "Mary",
         "Burger",
         "Juice"
        ]
       ],
       "shape": {
        "columns": 3,
        "rows": 3
       }
      },
      "text/html": [
       "<div>\n",
       "<style scoped>\n",
       "    .dataframe tbody tr th:only-of-type {\n",
       "        vertical-align: middle;\n",
       "    }\n",
       "\n",
       "    .dataframe tbody tr th {\n",
       "        vertical-align: top;\n",
       "    }\n",
       "\n",
       "    .dataframe thead th {\n",
       "        text-align: right;\n",
       "    }\n",
       "</style>\n",
       "<table border=\"1\" class=\"dataframe\">\n",
       "  <thead>\n",
       "    <tr style=\"text-align: right;\">\n",
       "      <th></th>\n",
       "      <th>name</th>\n",
       "      <th>food</th>\n",
       "      <th>drink</th>\n",
       "    </tr>\n",
       "  </thead>\n",
       "  <tbody>\n",
       "    <tr>\n",
       "      <th>0</th>\n",
       "      <td>Peter</td>\n",
       "      <td>Pizza</td>\n",
       "      <td>NaN</td>\n",
       "    </tr>\n",
       "    <tr>\n",
       "      <th>1</th>\n",
       "      <td>Paul</td>\n",
       "      <td>Pasta</td>\n",
       "      <td>NaN</td>\n",
       "    </tr>\n",
       "    <tr>\n",
       "      <th>2</th>\n",
       "      <td>Mary</td>\n",
       "      <td>Burger</td>\n",
       "      <td>Juice</td>\n",
       "    </tr>\n",
       "  </tbody>\n",
       "</table>\n",
       "</div>"
      ],
      "text/plain": [
       "    name    food  drink\n",
       "0  Peter   Pizza    NaN\n",
       "1   Paul   Pasta    NaN\n",
       "2   Mary  Burger  Juice"
      ]
     },
     "metadata": {},
     "output_type": "display_data"
    },
    {
     "name": "stdout",
     "output_type": "stream",
     "text": [
      "Right Join DataFrame (food - drink):\n"
     ]
    },
    {
     "data": {
      "application/vnd.microsoft.datawrangler.viewer.v0+json": {
       "columns": [
        {
         "name": "index",
         "rawType": "int64",
         "type": "integer"
        },
        {
         "name": "name",
         "rawType": "object",
         "type": "string"
        },
        {
         "name": "food",
         "rawType": "object",
         "type": "unknown"
        },
        {
         "name": "drink",
         "rawType": "object",
         "type": "string"
        }
       ],
       "ref": "f7260159-ae86-4af2-8762-49dedcc638f6",
       "rows": [
        [
         "0",
         "Joseph",
         null,
         "Coke"
        ],
        [
         "1",
         "Carla",
         null,
         "Pepsi"
        ],
        [
         "2",
         "Mary",
         "Burger",
         "Juice"
        ]
       ],
       "shape": {
        "columns": 3,
        "rows": 3
       }
      },
      "text/html": [
       "<div>\n",
       "<style scoped>\n",
       "    .dataframe tbody tr th:only-of-type {\n",
       "        vertical-align: middle;\n",
       "    }\n",
       "\n",
       "    .dataframe tbody tr th {\n",
       "        vertical-align: top;\n",
       "    }\n",
       "\n",
       "    .dataframe thead th {\n",
       "        text-align: right;\n",
       "    }\n",
       "</style>\n",
       "<table border=\"1\" class=\"dataframe\">\n",
       "  <thead>\n",
       "    <tr style=\"text-align: right;\">\n",
       "      <th></th>\n",
       "      <th>name</th>\n",
       "      <th>food</th>\n",
       "      <th>drink</th>\n",
       "    </tr>\n",
       "  </thead>\n",
       "  <tbody>\n",
       "    <tr>\n",
       "      <th>0</th>\n",
       "      <td>Joseph</td>\n",
       "      <td>NaN</td>\n",
       "      <td>Coke</td>\n",
       "    </tr>\n",
       "    <tr>\n",
       "      <th>1</th>\n",
       "      <td>Carla</td>\n",
       "      <td>NaN</td>\n",
       "      <td>Pepsi</td>\n",
       "    </tr>\n",
       "    <tr>\n",
       "      <th>2</th>\n",
       "      <td>Mary</td>\n",
       "      <td>Burger</td>\n",
       "      <td>Juice</td>\n",
       "    </tr>\n",
       "  </tbody>\n",
       "</table>\n",
       "</div>"
      ],
      "text/plain": [
       "     name    food  drink\n",
       "0  Joseph     NaN   Coke\n",
       "1   Carla     NaN  Pepsi\n",
       "2    Mary  Burger  Juice"
      ]
     },
     "metadata": {},
     "output_type": "display_data"
    },
    {
     "name": "stdout",
     "output_type": "stream",
     "text": [
      "Right Join DataFrame (drink - food):\n"
     ]
    },
    {
     "data": {
      "application/vnd.microsoft.datawrangler.viewer.v0+json": {
       "columns": [
        {
         "name": "index",
         "rawType": "int64",
         "type": "integer"
        },
        {
         "name": "name",
         "rawType": "object",
         "type": "string"
        },
        {
         "name": "drink",
         "rawType": "object",
         "type": "unknown"
        },
        {
         "name": "food",
         "rawType": "object",
         "type": "string"
        }
       ],
       "ref": "321c613a-216c-4ea0-afbc-89c2332dd388",
       "rows": [
        [
         "0",
         "Peter",
         null,
         "Pizza"
        ],
        [
         "1",
         "Paul",
         null,
         "Pasta"
        ],
        [
         "2",
         "Mary",
         "Juice",
         "Burger"
        ]
       ],
       "shape": {
        "columns": 3,
        "rows": 3
       }
      },
      "text/html": [
       "<div>\n",
       "<style scoped>\n",
       "    .dataframe tbody tr th:only-of-type {\n",
       "        vertical-align: middle;\n",
       "    }\n",
       "\n",
       "    .dataframe tbody tr th {\n",
       "        vertical-align: top;\n",
       "    }\n",
       "\n",
       "    .dataframe thead th {\n",
       "        text-align: right;\n",
       "    }\n",
       "</style>\n",
       "<table border=\"1\" class=\"dataframe\">\n",
       "  <thead>\n",
       "    <tr style=\"text-align: right;\">\n",
       "      <th></th>\n",
       "      <th>name</th>\n",
       "      <th>drink</th>\n",
       "      <th>food</th>\n",
       "    </tr>\n",
       "  </thead>\n",
       "  <tbody>\n",
       "    <tr>\n",
       "      <th>0</th>\n",
       "      <td>Peter</td>\n",
       "      <td>NaN</td>\n",
       "      <td>Pizza</td>\n",
       "    </tr>\n",
       "    <tr>\n",
       "      <th>1</th>\n",
       "      <td>Paul</td>\n",
       "      <td>NaN</td>\n",
       "      <td>Pasta</td>\n",
       "    </tr>\n",
       "    <tr>\n",
       "      <th>2</th>\n",
       "      <td>Mary</td>\n",
       "      <td>Juice</td>\n",
       "      <td>Burger</td>\n",
       "    </tr>\n",
       "  </tbody>\n",
       "</table>\n",
       "</div>"
      ],
      "text/plain": [
       "    name  drink    food\n",
       "0  Peter    NaN   Pizza\n",
       "1   Paul    NaN   Pasta\n",
       "2   Mary  Juice  Burger"
      ]
     },
     "metadata": {},
     "output_type": "display_data"
    }
   ],
   "source": [
    "# DataSet with name and food \n",
    "employee_food_df = pd.DataFrame({'name': ['Peter', 'Paul', 'Mary'],\n",
    "                                  'food': ['Pizza', 'Pasta', 'Burger']})\n",
    "# Dataset with name and drink\n",
    "employee_drink_df = pd.DataFrame({'name': ['Joseph', 'Carla', 'Mary'],\n",
    "                                   'drink': ['Coke', 'Pepsi', 'Juice']})\n",
    "# Display the DataFrames\n",
    "print(\"Employee Food and Drink DataFrames:\")\n",
    "display(employee_food_df, employee_drink_df)\n",
    "\n",
    "# Inner Join\n",
    "inner_join_df = pd.merge(employee_food_df, employee_drink_df, on='name', how='inner')\n",
    "print(\"Inner Join DataFrame:\")\n",
    "display(inner_join_df)\n",
    "\n",
    "# Outer Join\n",
    "outer_join_df = pd.merge(employee_food_df, employee_drink_df, on='name', how='outer')\n",
    "print(\"Outer Join DataFrame:\")\n",
    "display(outer_join_df)\n",
    "\n",
    "# Left Join\n",
    "left_join_df = pd.merge(employee_food_df, employee_drink_df, on='name', how='left')\n",
    "print(\"Left Join DataFrame:\")\n",
    "display(left_join_df)\n",
    "\n",
    "# Right Join\n",
    "right_join_df = pd.merge(employee_food_df, employee_drink_df, on='name', how='right')\n",
    "print(\"Right Join DataFrame (food - drink):\")\n",
    "display(right_join_df)\n",
    "# --- IGNORE ---\n",
    "print(\"Right Join DataFrame (drink - food):\")\n",
    "right_join_df2 = pd.merge(employee_drink_df, employee_food_df, on='name', how='right')\n",
    "display(right_join_df2)"
   ]
  },
  {
   "cell_type": "code",
   "execution_count": null,
   "id": "957b5d79",
   "metadata": {},
   "outputs": [],
   "source": []
  }
 ],
 "metadata": {
  "kernelspec": {
   "display_name": ".venv",
   "language": "python",
   "name": "python3"
  },
  "language_info": {
   "codemirror_mode": {
    "name": "ipython",
    "version": 3
   },
   "file_extension": ".py",
   "mimetype": "text/x-python",
   "name": "python",
   "nbconvert_exporter": "python",
   "pygments_lexer": "ipython3",
   "version": "3.13.7"
  }
 },
 "nbformat": 4,
 "nbformat_minor": 5
}
